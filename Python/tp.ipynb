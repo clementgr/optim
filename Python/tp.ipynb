{
 "cells": [
  {
   "cell_type": "markdown",
   "metadata": {},
   "source": [
    "# Projet sur les réseaux de distribution d’eau"
   ]
  },
  {
   "cell_type": "markdown",
   "metadata": {},
   "source": [
    "# 4. Séance de travaux pratiques 1"
   ]
  },
  {
   "cell_type": "markdown",
   "metadata": {},
   "source": [
    "## 4.1. Question 1"
   ]
  },
  {
   "cell_type": "markdown",
   "metadata": {},
   "source": [
    "### 4.1.a. Quelques éléments de calculs"
   ]
  },
  {
   "cell_type": "markdown",
   "metadata": {},
   "source": [
    "__Notations :__"
   ]
  },
  {
   "cell_type": "markdown",
   "metadata": {},
   "source": [
    "Le critère $F$ est donné par\n",
    "\n",
    "\\begin{align*}\n",
    "  F ~ \\colon \\quad \\mathbb{R}^{n-m_d} &\\to \\mathbb{R}\\\\\n",
    "  q_c &\\mapsto F(q_c) = \\frac{1}{3} \\langle q^{(0)} + B q_c, r ~\\bullet~ (q^{(0)} + B q_c) ~\\bullet~ \\vert q^{(0)} + B q_c \\vert \\rangle + \\langle p_r, A_r (q^{(0)} + Bq_c) \\rangle\n",
    "\\end{align*}\n",
    "\n",
    "où $a ~\\bullet~ b$ désigne le produit matriciel de Hadamard (produit composante par composante)"
   ]
  },
  {
   "cell_type": "markdown",
   "metadata": {},
   "source": [
    "Posons les fonctions\n",
    "\\begin{align*}\n",
    "  \\widetilde{F} ~ \\colon \\quad \\mathbb{R}^{n} &\\to \\mathbb{R}\\\\\n",
    "  q &\\mapsto \\widetilde{F}(q) = \\frac{1}{3} \\langle q, r ~\\bullet~ q ~\\bullet~ \\vert q \\vert \\rangle + \\langle p_r, A_r q \\rangle\n",
    "\\end{align*}"
   ]
  },
  {
   "cell_type": "markdown",
   "metadata": {},
   "source": [
    "et\n",
    "\\begin{align*}\n",
    "  Q ~ \\colon \\quad  \\mathbb{R}^{n-m_d} &\\to \\mathbb{R}^{n}\\\\\n",
    "  q_c &\\mapsto Q(q_c) = q = q^{(0)} + B q_c\n",
    "\\end{align*}"
   ]
  },
  {
   "cell_type": "markdown",
   "metadata": {},
   "source": [
    "de telle sorte que\n",
    "\\begin{equation*}\n",
    "    F = \\widetilde{F} \\circ Q\n",
    "\\end{equation*}"
   ]
  },
  {
   "cell_type": "markdown",
   "metadata": {},
   "source": [
    "__Lemme :__"
   ]
  },
  {
   "cell_type": "markdown",
   "metadata": {},
   "source": [
    "Etudions la dérivabilité de\n",
    "\n",
    "\\begin{align*}\n",
    "    f ~ \\colon \\quad \\mathbb{R} &\\to \\mathbb{R}\\\\\n",
    "    x &\\mapsto x \\vert x \\vert\n",
    "\\end{align*}\n",
    "\n",
    "Pour $x>0$, lorsque $h \\in \\mathbb{R}$ tend vers 0, $x+h$ devient et reste positif pour $h$ suffisamment petit de telle sorte que la dérivabilité de $f$ correspond à celle de $x \\mapsto x^2$.\n",
    "\n",
    "\\begin{equation*}\n",
    "    \\forall x>0, \\quad f'(x) = 2x = 2 \\vert x \\vert\n",
    "\\end{equation*}\n",
    "\n",
    "De façon analogue, pour $x<0$, lorsque $h \\in \\mathbb{R}$ tend vers 0, $x+h$ devient et reste négatif pour $h$ suffisamment petit de telle sorte que la dérivabilité de $f$ correspond à celle de $x \\mapsto -x^2$.\n",
    "\n",
    "\\begin{equation*}\n",
    "    \\forall x<0, \\quad f'(x) = -2x = 2 \\vert x \\vert\n",
    "\\end{equation*}\n",
    "\n",
    "Enfin pour $x=0$,\n",
    "\n",
    "\\begin{equation*}\n",
    "    \\frac{f(h) - f(0)}{h} = \\frac{h \\vert h \\vert}{h} = \\vert h \\vert \\xrightarrow[h \\to 0]{} 0 \\quad \\textit{ie} \\quad f'(0) = 0 = 2 \\vert 0 \\vert \n",
    "\\end{equation*}\n",
    "\n",
    "On en déduit\n",
    "\n",
    "\\begin{equation*}\n",
    "    \\forall x \\in \\mathbb{R}, \\quad f'(x) = 2 \\vert x \\vert\n",
    "\\end{equation*}"
   ]
  },
  {
   "cell_type": "markdown",
   "metadata": {},
   "source": [
    "De même, on en montre que la fonction\n",
    "\n",
    "\\begin{align*}\n",
    "    g ~ \\colon \\quad \\mathbb{R} &\\to \\mathbb{R}\\\\\n",
    "    x &\\mapsto x^2 \\vert x \\vert\n",
    "\\end{align*}\n",
    "\n",
    "est dérivable sur $\\mathbb{R}$ de dérivée\n",
    "\n",
    "\\begin{equation*}\n",
    "    \\forall x \\in \\mathbb{R}, \\quad g'(x) = 3x \\vert x \\vert\n",
    "\\end{equation*}"
   ]
  },
  {
   "cell_type": "markdown",
   "metadata": {},
   "source": [
    "__Matrice jacobienne / gradient de $\\widetilde{F}$ :__"
   ]
  },
  {
   "cell_type": "markdown",
   "metadata": {},
   "source": [
    "Pour $q \\in \\mathbb{R}^{n}$,\n",
    "\n",
    "\\begin{equation*}\n",
    "    \\widetilde{F}(q) = \\frac{1}{3} \\sum_{i = 1}^{n} r_i q_i^2 \\vert q_i \\vert + \\sum_{i = 1}^{m_r} (p_r)_i \\sum_{j = 1}^{n} (A_r)_{i,j} q_j\n",
    "\\end{equation*}\n",
    "\n",
    "Pour tout $1 \\leq k \\leq n$ et $q \\in \\mathbb{R}^{n}$,\n",
    "\n",
    "\\begin{equation*}\n",
    "    \\frac{\\partial \\widetilde{F}}{\\partial q_k}(q) = r_k q_k \\vert q_k \\vert + \\sum_{i = 1}^{m_r} (p_r)_i (A_r)_{i,k} = r_k q_k \\vert q_k \\vert + \\sum_{i = 1}^{m_r} (A_r)_{k, i}^T (p_r)_i\n",
    "\\end{equation*}\n",
    "\n",
    "de telle sorte que la matrice jacobienne $J_{\\widetilde{F}}$ et le gradient $\\nabla \\widetilde{F}$ de $\\widetilde{F}$ sont tels que\n",
    "\n",
    "\\begin{equation*}\n",
    "    J_{\\widetilde{F}}(q) = (\\nabla \\widetilde{F}(q))^T \\quad \\text{et} \\quad \\nabla \\widetilde{F}(q) = r ~\\bullet~ q ~\\bullet~ \\vert q \\vert + A_r^T p_r\n",
    "\\end{equation*}"
   ]
  },
  {
   "cell_type": "markdown",
   "metadata": {},
   "source": [
    "__Matrice jacobienne de $Q$ :__"
   ]
  },
  {
   "cell_type": "markdown",
   "metadata": {},
   "source": [
    "Pour tout $1 \\leq k \\leq n$, $1 \\leq j \\leq n - m_d$ et $q_c \\in \\mathbb{R}^{n-m_d}$,\n",
    "\n",
    "\\begin{equation*}\n",
    "    \\frac{\\partial Q_k}{\\partial (q_c)_j}(q_c) = B_{k,j}\n",
    "\\end{equation*}\n",
    "\n",
    "de telle sorte que la matrice jacobienne $J_{Q}$ de $Q$ est telle que\n",
    "\n",
    "\\begin{equation*}\n",
    "    J_Q(q_c) = B\n",
    "\\end{equation*}"
   ]
  },
  {
   "cell_type": "markdown",
   "metadata": {},
   "source": [
    "__Gradient de $F$ :__"
   ]
  },
  {
   "cell_type": "markdown",
   "metadata": {},
   "source": [
    "Enfin, par théorème de dérivation de fonctions composées,\n",
    "pour tout $1 \\leq j \\leq n - m_d$ et $q_c \\in \\mathbb{R}^{n-m_d}$,\n",
    "\n",
    "\\begin{equation*}\n",
    "    \\frac{\\partial F}{\\partial (q_c)_j}(q_c) = \\sum_{k = 1}^{n} \\frac{\\partial \\widetilde{F}}{\\partial q_k}(q) \\frac{\\partial Q_k}{\\partial (q_c)_j}(q_c) = \\sum_{k = 1}^{n} \\left( r_k q_k \\vert q_k \\vert + \\sum_{i = 1}^{m_r} (A_r)_{k, i}^T (p_r)_i \\right) B_{k,j} = \\sum_{k = 1}^{n} B_{j,k}^T (\\nabla \\widetilde{F}(q))_k = (B^T \\nabla \\widetilde{F}(q))_j\n",
    "\\end{equation*}\n",
    "\n",
    "où $q = Q(q_c) = q^{(0)} + B q_c$."
   ]
  },
  {
   "cell_type": "markdown",
   "metadata": {},
   "source": [
    "On en déduit ainsi\n",
    "\n",
    "\\begin{equation*}\n",
    "    \\nabla F(q_c) = B^T \\nabla \\widetilde{F}(Q(q_c))\n",
    "\\end{equation*}"
   ]
  },
  {
   "cell_type": "markdown",
   "metadata": {},
   "source": [
    "### 4.1.b. Implémentation"
   ]
  },
  {
   "cell_type": "markdown",
   "metadata": {},
   "source": [
    "__Fichier Probleme_R.py :__"
   ]
  },
  {
   "cell_type": "code",
   "execution_count": 1,
   "metadata": {},
   "outputs": [],
   "source": [
    "# %load Probleme_R.py"
   ]
  },
  {
   "cell_type": "code",
   "execution_count": 42,
   "metadata": {},
   "outputs": [],
   "source": [
    "#!/usr/bin/python\n",
    "\n",
    "import numpy as np\n",
    "\n",
    "#############################################################################\n",
    "#                                                                           #\n",
    "#        DONNEES ASSOCIEES A LA RESOLUTION DES EQUATIONS D'UN RESEAU        #\n",
    "#                                                                           #\n",
    "#        Probleme_R : reseau representant un cas relativement realiste      #\n",
    "#                                                                           #\n",
    "#############################################################################\n",
    "\n",
    "# Variables du probleme\n",
    "#\n",
    "# nom  : nom du reseau\n",
    "#\n",
    "# n    : nombre total d'arcs\n",
    "# m    : nombre total de noeuds\n",
    "# mr   : nombre de noeuds de type reservoir\n",
    "# md   : nombre de noeuds de type demande (= m-mr)\n",
    "#\n",
    "# orig : vecteur des numeros des noeuds initiaux des arcs : M(1,n)\n",
    "# dest : vecteur des numeros des noeuds finaux   des arcs : M(1,n)\n",
    "# absn : vecteur des abscisses des noeuds                 : M(1,m)\n",
    "# ordn : vecteur des ordonnees des noeuds                 : M(1,m)\n",
    "#\n",
    "# r    : vecteur des resistances des arcs                 : M(n,1)\n",
    "# pr   : vecteur des pressions des noeuds reservoirs      : M(mr,1)\n",
    "# fd   : vecteur des flux des noeuds de demande           : M(md,1)\n",
    "\n",
    "##### Nom du reseau\n",
    "\n",
    "nom = 'Realiste'\n",
    "\n",
    "##### Dimensions du reseau\n",
    "\n",
    "# Nombre de noeuds et d'arcs\n",
    "n = 22\n",
    "m = 16\n",
    "mr = 3\n",
    "md = m - mr\n",
    "\n",
    "##### Caracteristiques des noeuds et des arcs\n",
    " \n",
    "# Numeros des noeuds initiaux et finaux des arcs\n",
    "orig = np.array([1, 2, 3, 4, 5, 6, 7, 8, 8, 9, 10, 11, 13, 1, 2, 4, 5, 7, 8, 14, 2, 10])\n",
    "dest = np.array([4, 16, 15, 5, 6, 10, 16, 9, 12, 10, 11, 14, 15, 16, 6, 8, 9, 11, 13, 15, 4, 13])\n",
    "\n",
    "orig = orig - 1 # car Python commence a 0\n",
    "dest = dest - 1 # car Python commence a 0\n",
    "\n",
    "# Coordonnees des noeuds\n",
    "absn = np.array([11, 18, 38, 4, 8, 15, 26, 4, 10, 19, 26, 7, 21, 33, 33, 16])\n",
    "ordn = np.array([28, 21, 8, 21, 17, 17, 26, 9, 13, 13, 18, 4, 9, 18, 12, 24])\n",
    "\n",
    "# Resistances des arcs\n",
    "r = np.array([100, 10, 1000, 100, 100, 10, 1000, 100, 1000, 100, 1000, 1000, 1000, 10, 10, 100 , 100, 1000, 100, 1000, 100, 10])\n",
    "\n",
    "# Pressions au pied des reservoirs (en m)\n",
    "pr = np.array([105, 104, 110])\n",
    "\n",
    "# Flux aux noeuds de demande (en m3/s)\n",
    "fd = np.array([+0.08, -1.30, +0.13, +0.09, +0.16, +0.14, +0.12, +0.07, +0.17, +0.11, +0.25, +0.01, +0.13])\n"
   ]
  },
  {
   "cell_type": "markdown",
   "metadata": {},
   "source": [
    "__Fichier Structures_N.py :__"
   ]
  },
  {
   "cell_type": "code",
   "execution_count": 43,
   "metadata": {},
   "outputs": [],
   "source": [
    "# %load Stuctures_N.py"
   ]
  },
  {
   "cell_type": "code",
   "execution_count": 44,
   "metadata": {},
   "outputs": [],
   "source": [
    "from numpy.linalg import inv\n",
    "from numpy import dot\n",
    "\n",
    "###############################################################################\n",
    "#                                                                             #\n",
    "#  STRUCTURES DE DONNEES NECESSAIRES A LA RESOLUTION DES EQUATIONS DU RESEAU  #\n",
    "#                                                                             #\n",
    "#  Structures_N : matrices normales                                           #\n",
    "#                                                                             #\n",
    "###############################################################################\n",
    "\n",
    "# Matrices issues de la topologie du reseau\n",
    "#\n",
    "# A    : matrice d'incidence noeuds-arcs du graphe        : M(m,n)\n",
    "# Ar   : sous-matrice de A correspondant aux reservoirs   : M(mr,n)\n",
    "# Ad   : sous-matrice complementaire de Ar pour A         : M(md,n)\n",
    "# AdT  : plus grande sous-matrice carree inversible de Ad : M(md,md)\n",
    "# AdI  : matrice inverse de AdT                           : M(md,md)\n",
    "# AdC  : sous-matrice complementaire de AdT pour Ad       : M(md,n-md)\n",
    "# B    : matrice d'incidence arcs-cycles du graphe        : M(n,n-md)\n",
    "#\n",
    "# Debit admissible\n",
    "#\n",
    "# q0   : vecteur des debits admissibles des arcs          : M(n,1)\n",
    "\n",
    "##### Matrice d'incidence et sous-matrices associees\n",
    "\n",
    "# Matrice d'incidence noeuds-arcs du graphe\n",
    "A = np.zeros((m, n))\n",
    "for i in range(m):\n",
    "    A[i, orig == i] = -1\n",
    "    A[i, dest == i] = +1\n",
    "\n",
    "# Partition de A suivant le type des noeuds\n",
    "Ar = A[:mr,:]\n",
    "Ad = A[mr:m,:]\n",
    "\n",
    "# Sous-matrice de Ad associee a un arbre et inverse\n",
    "AdT = Ad[:,:md]\n",
    "AdI = inv(AdT)\n",
    "\n",
    "# Sous matrice de Ad associee a un coarbre\n",
    "AdC = Ad[:,md:n]\n",
    "\n",
    "# Matrice d'incidence arcs-cycles\n",
    "B = np.zeros((n, n-md))\n",
    "B[:md,:] = -dot(AdI, AdC)\n",
    "B[md:,:] = np.eye(n-md)\n",
    "\n",
    "##### Vecteur des debits admissibles\n",
    "q0 = np.zeros(n)\n",
    "q0[:md] = dot(AdI,fd)\n"
   ]
  },
  {
   "cell_type": "markdown",
   "metadata": {},
   "source": [
    "__Oracle Gradient :__"
   ]
  },
  {
   "cell_type": "code",
   "execution_count": 45,
   "metadata": {},
   "outputs": [],
   "source": [
    "def F(q):\n",
    "    return np.dot(q,r*q*np.absolute(q))/3. + np.dot(pr,np.matmul(Ar,q))"
   ]
  },
  {
   "cell_type": "code",
   "execution_count": 46,
   "metadata": {},
   "outputs": [],
   "source": [
    "def Q(qc):\n",
    "    return q0+np.matmul(B,qc)"
   ]
  },
  {
   "cell_type": "code",
   "execution_count": 47,
   "metadata": {},
   "outputs": [],
   "source": [
    "def gradient_F_tilde(q):\n",
    "    return r*q*np.absolute(q) + np.matmul(np.transpose(Ar),pr)"
   ]
  },
  {
   "cell_type": "code",
   "execution_count": 48,
   "metadata": {},
   "outputs": [],
   "source": [
    "def G(qc):\n",
    "    return np.matmul(np.transpose(B),gradient_F_tilde(Q(qc)))"
   ]
  },
  {
   "cell_type": "code",
   "execution_count": 49,
   "metadata": {},
   "outputs": [],
   "source": [
    "def OraclePG(qC,ind):\n",
    "    if (ind == 2):\n",
    "        return((F(Q(qC)), None, ind))\n",
    "    elif (ind == 3):\n",
    "        return((None, G(qC), ind))\n",
    "    elif (ind == 4):\n",
    "        return((F(Q(qC)), G(qC), ind))\n",
    "    else:\n",
    "        print('la valeur de ind ne correspond à aucune entrée possible')"
   ]
  },
  {
   "cell_type": "code",
   "execution_count": 50,
   "metadata": {},
   "outputs": [
    {
     "name": "stdout",
     "output_type": "stream",
     "text": [
      "(47.33313000000001, array([  -1.484,  -97.16 , -142.661, -138.531, -199.257,  117.921,\n",
      "        261.941,    4.24 ,   84.941]), 4)\n"
     ]
    }
   ],
   "source": [
    "print(OraclePG([0]*9, 4))"
   ]
  },
  {
   "cell_type": "markdown",
   "metadata": {},
   "source": [
    "## 4.2. Question 2"
   ]
  },
  {
   "cell_type": "markdown",
   "metadata": {},
   "source": [
    "__Fichier Gradient_F.py :__"
   ]
  },
  {
   "cell_type": "code",
   "execution_count": 51,
   "metadata": {},
   "outputs": [],
   "source": [
    "# %load Gradient_F.py"
   ]
  },
  {
   "cell_type": "code",
   "execution_count": 52,
   "metadata": {},
   "outputs": [],
   "source": [
    "from time import process_time\n",
    "from numpy.linalg import norm\n",
    "\n",
    "#############################################################################\n",
    "#                                                                           #\n",
    "#         RESOLUTION D'UN PROBLEME D'OPTIMISATION SANS CONTRAINTES          #\n",
    "#                                                                           #\n",
    "#         Methode du gradient a pas fixe                                    #\n",
    "#                                                                           #\n",
    "#############################################################################\n",
    "\n",
    "from Visualg import Visualg\n",
    "\n",
    "def Gradient_F(Oracle, x0):\n",
    "\n",
    "    ##### Initialisation des variables\n",
    "\n",
    "    iter_max = 10000\n",
    "    gradient_step = 0.0005\n",
    "    threshold = 0.000001\n",
    "\n",
    "    gradient_norm_list = []\n",
    "    gradient_step_list = []\n",
    "    critere_list = []\n",
    "\n",
    "    time_start = process_time()\n",
    "\n",
    "    x = x0\n",
    "    \n",
    "    ind = 4\n",
    "\n",
    "    ##### Boucle sur les iterations\n",
    "\n",
    "    for k in range(iter_max):\n",
    "\n",
    "        # Valeur du critere et du gradient\n",
    "        critere, gradient, ind = Oracle(x, ind)\n",
    "\n",
    "        # Test de convergence\n",
    "        gradient_norm = norm(gradient)\n",
    "        if gradient_norm <= threshold:\n",
    "            break\n",
    "\n",
    "        # Direction de descente\n",
    "        D = -gradient\n",
    "\n",
    "        # Mise a jour des variables\n",
    "        x = x + (gradient_step*D)\n",
    "\n",
    "        # Evolution du gradient, du pas, et du critere\n",
    "        gradient_norm_list.append(gradient_norm)\n",
    "        gradient_step_list.append(gradient_step)\n",
    "        critere_list.append(critere)\n",
    "\n",
    "    ##### Resultats de l'optimisation\n",
    "\n",
    "    critere_opt = critere\n",
    "    gradient_opt = gradient\n",
    "    x_opt = x\n",
    "    time_cpu = process_time() - time_start\n",
    "\n",
    "    print()\n",
    "    print('Iteration :', k)\n",
    "    print('Temps CPU :', time_cpu)\n",
    "    print('Critere optimal :', critere_opt)\n",
    "    print('Norme du gradient :', norm(gradient_opt))\n",
    "\n",
    "    # Visualisation de la convergence\n",
    "    Visualg(gradient_norm_list, gradient_step_list, critere_list)\n",
    "\n",
    "    return critere_opt, gradient_opt, x_opt\n"
   ]
  },
  {
   "cell_type": "markdown",
   "metadata": {},
   "source": [
    "__Fichier Verification.py :__"
   ]
  },
  {
   "cell_type": "code",
   "execution_count": 53,
   "metadata": {},
   "outputs": [],
   "source": [
    "# %load Verification.py"
   ]
  },
  {
   "cell_type": "code",
   "execution_count": 54,
   "metadata": {},
   "outputs": [],
   "source": [
    "from numpy import dot, transpose as t\n",
    "\n",
    "##############################################################################\n",
    "#                                                                            #\n",
    "#  VERIFICATION DES EQUATIONS D'EQUILIBRE D'UN RESEAU DE DISTRIBUTION D'EAU  #\n",
    "#                                                                            #\n",
    "##############################################################################\n",
    "\n",
    "# On suppose determinee la solution du probleme d'optimisation et reconstituee\n",
    "# les variables hydrauliques du reseau. On calcule le plus grand ecart sur les\n",
    "# 2 series d'equations qui caracterisent l'equilibre du reseau.\n",
    "#\n",
    "# Variables en entree\n",
    "#\n",
    "#    - q : vecteur des debits des arcs\n",
    "#    - z : vecteur des pertes de charge des arcs\n",
    "#    - f : vecteur des flux aux noeuds\n",
    "#    - p : vecteur des pressions aux noeuds\n",
    "\n",
    "def Verification(q, z, f, p):\n",
    "    \n",
    "    # Ecarts maximaux sur les lois de Kirschoff\n",
    "    tol_debits = max(abs(dot(A, q) - f))\n",
    "    tol_pression = max(abs(dot(t(A), p) + z))\n",
    "    \n",
    "    # Affichage\n",
    "    print()\n",
    "    print(\"Vérification des équations d'équilibre du réseau\")\n",
    "    print(\"Sur les débits : {}\".format(tol_debits))\n",
    "    print(\"Sur les pressions : {}\".format(tol_pression))"
   ]
  },
  {
   "cell_type": "markdown",
   "metadata": {},
   "source": [
    "__Fichier Monitor_Skel.py :__"
   ]
  },
  {
   "cell_type": "code",
   "execution_count": 55,
   "metadata": {},
   "outputs": [],
   "source": [
    "# %load Monitor_Skel.py"
   ]
  },
  {
   "cell_type": "code",
   "execution_count": 56,
   "metadata": {},
   "outputs": [
    {
     "name": "stdout",
     "output_type": "stream",
     "text": [
      "\n",
      "ALGORITHME DU GRADIENT A PAS FIXE\n",
      "\n",
      "Iteration : 4280\n",
      "Temps CPU : 0.1031749999999998\n",
      "Critere optimal : -3.734007048043491\n",
      "Norme du gradient : 9.993857923589199e-07\n"
     ]
    },
    {
     "data": {
      "image/png": "[encoded data removed]",
      "text/plain": [
       "<Figure size 432x288 with 2 Axes>"
      ]
     },
     "metadata": {},
     "output_type": "display_data"
    },
    {
     "name": "stdout",
     "output_type": "stream",
     "text": [
      "\n",
      "Vérification des équations d'équilibre du réseau\n",
      "Sur les débits : 5.551115123125783e-17\n",
      "Sur les pressions : 9.993807923436293e-07\n"
     ]
    }
   ],
   "source": [
    "#############################################################################\n",
    "#                                                                           #\n",
    "#  MONITEUR D'ENCHAINEMENT POUR LE CALCUL DE L'EQUILIBRE D'UN RESEAU D'EAU  #\n",
    "#                                                                           #\n",
    "#############################################################################\n",
    "\n",
    "# Verification des resultats\n",
    "from HydrauliqueP import HydrauliqueP\n",
    "from HydrauliqueD import HydrauliqueD\n",
    "\n",
    "##### Initialisation de l'algorithme\n",
    "\n",
    "# primal\n",
    "x0 = 0.1 * np.random.normal(size=n-md)\n",
    "\n",
    "# dual\n",
    "# x0 = 100 + np.random.normal(size=md)\n",
    "\n",
    "##### Minimisation proprement dite\n",
    "\n",
    "# gradient a pas fixe\n",
    "print()\n",
    "print(\"ALGORITHME DU GRADIENT A PAS FIXE\")\n",
    "copt, gopt, xopt = Gradient_F(OraclePG, x0)\n",
    "\n",
    "#gradient a pas variable\n",
    "# print()\n",
    "# print(\"ALGORITHME DU GRADIENT A PAS VARIABLE\")\n",
    "# copt, gopt, xopt = Gradient_V(OraclePG, x0)\n",
    "\n",
    "\n",
    "##### Verification des resultats\n",
    "\n",
    "# primal\n",
    "qopt, zopt, fopt, popt = HydrauliqueP(xopt)\n",
    "\n",
    "# dual\n",
    "# qopt, zopt, fopt, popt = HydrauliqueD(xopt)\n",
    "\n",
    "Verification(qopt, zopt, fopt, popt)"
   ]
  },
  {
   "cell_type": "markdown",
   "metadata": {
    "collapsed": true
   },
   "source": [
    "## 4.3. Question 3"
   ]
  },
  {
   "cell_type": "markdown",
   "metadata": {},
   "source": [
    "### 4.3.a. Quelques éléments de calculs"
   ]
  },
  {
   "cell_type": "markdown",
   "metadata": {},
   "source": [
    "__Matrice hessienne de F :__"
   ]
  },
  {
   "cell_type": "markdown",
   "metadata": {},
   "source": [
    "Pour tout $1 \\leq j \\leq n - m_d$ et $q_c \\in \\mathbb{R}^{n-m_d}$,\n",
    "\n",
    "\\begin{equation*}\n",
    "    \\frac{\\partial F}{\\partial (q_c)_j}(q_c) = \\sum_{k = 1}^{n} \\left( r_k q_k \\vert q_k \\vert + \\sum_{i = 1}^{m_r} (A_r)_{k, i}^T (p_r)_i \\right) B_{k,j} =\n",
    "    \\sum_{k = 1}^{n} \\left( r_k (Q(q_c))_k \\vert (Q(q_c))_k \\vert + \\sum_{i = 1}^{m_r} (A_r)_{k, i}^T (p_r)_i \\right) B_{k,j}\n",
    "\\end{equation*}"
   ]
  },
  {
   "cell_type": "markdown",
   "metadata": {},
   "source": [
    "or pour tout $1 \\leq k \\leq n$, $1 \\leq i \\leq n - m_d$ et $q_c \\in \\mathbb{R}^{n-m_d}$,\n",
    "\n",
    "\\begin{equation*}\n",
    "    \\frac{\\partial (Q \\vert Q \\vert (q_c))_k}{\\partial (q_c)_i}(q_c) = 2 \\vert (Q (q_c))_k \\vert  \\frac{\\partial (Q(q_c))_k}{\\partial (q_c)_i}(q_c) = 2 \\vert (Q (q_c))_k \\vert  B_{k,i} = \\vert q_k \\vert  B_{k,i}\n",
    "\\end{equation*}"
   ]
  },
  {
   "cell_type": "markdown",
   "metadata": {},
   "source": [
    "On en déduit pour tout $1 \\leq i, ~ j \\leq n - m_d$ et $q_c \\in \\mathbb{R}^{n-m_d}$\n",
    "\n",
    "\\begin{equation*}\n",
    "    \\frac{\\partial^2 F}{\\partial (q_c)_i \\partial (q_c)_j}(q_c) =\n",
    "    \\sum_{k = 1}^{n} \\left( 2 r_k \\vert q_k \\vert   B_{k,i} B_{k,j} \\right) = 2 \\sum_{k = 1}^{n} r_k \\vert q_k \\vert B_{k,i} B_{k,j}\n",
    "\\end{equation*}"
   ]
  },
  {
   "cell_type": "markdown",
   "metadata": {},
   "source": [
    "Finalement, on obtient l'expression suivante pour la matrice Hessienne de F en qc :\n",
    "\n",
    "$$\\mathcal{H}_{F}(q_c) = B^{T} \\cdot 2 \\text{Diag}(r \\bullet |q|) \\cdot B$$\n",
    "\n",
    "où $q = q^{(0)} + Bq_c$"
   ]
  },
  {
   "cell_type": "markdown",
   "metadata": {},
   "source": [
    "### 4.3.b. Implémentation"
   ]
  },
  {
   "cell_type": "code",
   "execution_count": 57,
   "metadata": {},
   "outputs": [],
   "source": [
    "def H(qc):\n",
    "    return 2*np.matmul(np.transpose(B), np.matmul(np.diag(r*Q(qc)), B))"
   ]
  },
  {
   "cell_type": "code",
   "execution_count": 59,
   "metadata": {},
   "outputs": [],
   "source": [
    "def OraclePH(qC,ind):\n",
    "    if (ind == 2):\n",
    "        return((F(Q(qC)), None, None, ind))\n",
    "    elif (ind == 3):\n",
    "        return((None, G(qC), None, ind))\n",
    "    elif (ind == 4):\n",
    "        return((F(Q(qC)), G(qC), None, ind))\n",
    "    elif (ind == 5):\n",
    "        return((None, None, H(qC), ind))\n",
    "    elif (ind == 6):\n",
    "        return((None, G(qC), H(qC), ind))\n",
    "    elif (ind == 7):\n",
    "        return((F(Q(qC)), G(qC), H(qC), ind))\n",
    "    else:\n",
    "        print('la valeur de ind ne correspond à aucune entrée possible')"
   ]
  },
  {
   "cell_type": "markdown",
   "metadata": {},
   "source": [
    "__Fichier Newton_F.py :__"
   ]
  },
  {
   "cell_type": "code",
   "execution_count": 60,
   "metadata": {},
   "outputs": [],
   "source": [
    "# %load Newton_F.py"
   ]
  },
  {
   "cell_type": "code",
   "execution_count": 61,
   "metadata": {},
   "outputs": [],
   "source": [
    "from numpy.linalg import inv\n",
    "\n",
    "#############################################################################\n",
    "#                                                                           #\n",
    "#         RESOLUTION D'UN PROBLEME D'OPTIMISATION SANS CONTRAINTES          #\n",
    "#                                                                           #\n",
    "#         Methode de Newton a pas fixe                                      #\n",
    "#                                                                           #\n",
    "#############################################################################\n",
    "\n",
    "\n",
    "def Newton_F(Oracle, x0):\n",
    "    \n",
    "    ##### Initialisation des variables    \n",
    "    \n",
    "    iter_max = 100\n",
    "    gradient_step = 1\n",
    "    threshold = 0.000001\n",
    "    \n",
    "    gradient_norm_list = []\n",
    "    gradient_step_list = []\n",
    "    critere_list = []\n",
    "\n",
    "    time_start = process_time()\n",
    "    \n",
    "    x = x0\n",
    "    \n",
    "    ind = 7\n",
    "\n",
    "    ##### Boucle sur les iterations\n",
    "    \n",
    "    for k in range(iter_max):\n",
    "        \n",
    "        # Valeur du critere et du gradient\n",
    "        critere, gradient, hessien, ind = Oracle(x, ind)\n",
    "\n",
    "        # Test de convergence\n",
    "        gradient_norm = norm(gradient)\n",
    "        if gradient_norm <= threshold:\n",
    "            break\n",
    "        \n",
    "        # Direction de descente\n",
    "        D = - dot(inv(hessien), gradient)\n",
    "        \n",
    "        # Mise a jour des variables\n",
    "        x = x + (gradient_step*D)\n",
    "        \n",
    "        # Evolution du gradient, du pas, et du critere\n",
    "        gradient_norm_list.append(gradient_norm)\n",
    "        gradient_step_list.append(gradient_step)\n",
    "        critere_list.append(critere)\n",
    "   \n",
    "    ##### Resultats de l'optimisation\n",
    "    \n",
    "    critere_opt = critere\n",
    "    gradient_opt = gradient\n",
    "    x_opt = x\n",
    "    time_cpu = process_time() - time_start\n",
    "\n",
    "    print()\n",
    "    print('Iteration :', k)\n",
    "    print('Temps CPU :', time_cpu)\n",
    "    print('Critere optimal :', critere_opt)\n",
    "    print('Norme du gradient :', norm(gradient_opt))\n",
    "    \n",
    "    # Visualisation de la convergence\n",
    "    Visualg(gradient_norm_list, gradient_step_list, critere_list)\n",
    "    \n",
    "    return critere_opt, gradient_opt, x_opt"
   ]
  },
  {
   "cell_type": "markdown",
   "metadata": {},
   "source": [
    "__Fichier Monitor_Skel.py :__"
   ]
  },
  {
   "cell_type": "code",
   "execution_count": 62,
   "metadata": {},
   "outputs": [
    {
     "name": "stdout",
     "output_type": "stream",
     "text": [
      "\n",
      "ALGORITHME DE NEWTON A PAS FIXE\n",
      "\n",
      "Iteration : 6\n",
      "Temps CPU : 0.004700999999999844\n",
      "Critere optimal : -3.734007048043562\n",
      "Norme du gradient : 5.930167316035995e-07\n"
     ]
    },
    {
     "name": "stderr",
     "output_type": "stream",
     "text": [
      "/anaconda3/lib/python3.6/site-packages/matplotlib/axes/_base.py:3443: UserWarning: Attempting to set identical bottom==top results\n",
      "in singular transformations; automatically expanding.\n",
      "bottom=1.0, top=1.0\n",
      "  'bottom=%s, top=%s') % (bottom, top))\n"
     ]
    },
    {
     "data": {
      "image/png": "[encoded data removed]",
      "text/plain": [
       "<Figure size 432x288 with 2 Axes>"
      ]
     },
     "metadata": {},
     "output_type": "display_data"
    },
    {
     "name": "stdout",
     "output_type": "stream",
     "text": [
      "\n",
      "Vérification des équations d'équilibre du réseau\n",
      "Sur les débits : 1.249000902703301e-16\n",
      "Sur les pressions : 2.8185930700877493e-07\n"
     ]
    }
   ],
   "source": [
    "#############################################################################\n",
    "#                                                                           #\n",
    "#  MONITEUR D'ENCHAINEMENT POUR LE CALCUL DE L'EQUILIBRE D'UN RESEAU D'EAU  #\n",
    "#                                                                           #\n",
    "#############################################################################\n",
    "\n",
    "# Verification des resultats\n",
    "from HydrauliqueP import HydrauliqueP\n",
    "from HydrauliqueD import HydrauliqueD\n",
    "\n",
    "##### Initialisation de l'algorithme\n",
    "\n",
    "# primal\n",
    "x0 = 0.1 * np.random.normal(size=n-md)\n",
    "\n",
    "# dual\n",
    "# x0 = 100 + np.random.normal(size=md)\n",
    "\n",
    "##### Minimisation proprement dite\n",
    "\n",
    "# Newton a pas fixe\n",
    "print()\n",
    "print(\"ALGORITHME DE NEWTON A PAS FIXE\")\n",
    "copt, gopt, xopt = Newton_F(OraclePH, x0)\n",
    "\n",
    "\n",
    "##### Verification des resultats\n",
    "\n",
    "# primal\n",
    "qopt, zopt, fopt, popt = HydrauliqueP(xopt)\n",
    "\n",
    "# dual\n",
    "# qopt, zopt, fopt, popt = HydrauliqueD(xopt)\n",
    "\n",
    "Verification(qopt, zopt, fopt, popt)"
   ]
  },
  {
   "cell_type": "markdown",
   "metadata": {},
   "source": [
    "## 4.4 Question 4"
   ]
  },
  {
   "cell_type": "code",
   "execution_count": null,
   "metadata": {
    "collapsed": true
   },
   "outputs": [],
   "source": []
  }
 ],
 "metadata": {
  "kernelspec": {
   "display_name": "Python 3",
   "language": "python",
   "name": "python3"
  },
  "language_info": {
   "codemirror_mode": {
    "name": "ipython",
    "version": 3
   },
   "file_extension": ".py",
   "mimetype": "text/x-python",
   "name": "python",
   "nbconvert_exporter": "python",
   "pygments_lexer": "ipython3",
   "version": "3.6.5"
  }
 },
 "nbformat": 4,
 "nbformat_minor": 2
}
